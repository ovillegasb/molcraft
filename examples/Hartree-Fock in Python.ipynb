{
 "cells": [
  {
   "cell_type": "markdown",
   "id": "5a9e155c-2216-4ef0-80f2-9117c51a48d3",
   "metadata": {},
   "source": [
    "# Simple Quantum Chemistry: Hartree-Fock in Python"
   ]
  },
  {
   "cell_type": "markdown",
   "id": "12fc3d67-3810-4cbf-b886-290b7d48fc09",
   "metadata": {},
   "source": [
    "Computational chemistry allow properties of molecules to be determined with incredible accuracy. This includes how much energy is stored in a molecule (and how much is released when you combust it), at which frequencies does it vibrate (which can be used to identify chemicals), how quickly a reaction will occur etc. . One of the most widely used method to calculate these properties as a first approximation is the Hartree-Fock (HF) method. Many very successful widely used density functional methods (B3LYP, PBE0, B97) will add in exact exhange calculated using HF to improve the calculation. One of the classic texts in computational chemistry is Modern Quantum Chemistry by Szabo and Ostlund. The book includes a simple calculation of the molecule $HeH^+$ which has the same electronic configuration as the hydrogen molecule but due to the $+2$ charge on the helium nucleus it is not symmetrical and must be calculated iteratively by converging on a consistent set of parameters which is why the method is often called self consistent field theory (SCF). I have rewritten this example in the python language based on the original Fortran code and try to explain how the calculations are performed and why the operations are done. I have also added in figures to show what the results look like.\n",
    "\n",
    "(https://nznano.blogspot.com/2018/03/simple-quantum-chemistry-hartree-fock.html)"
   ]
  },
  {
   "cell_type": "markdown",
   "id": "489c4a7a-fd02-45e2-8072-9062af849b0a",
   "metadata": {},
   "source": [
    "## Molecular Schrodinger equation"
   ]
  },
  {
   "cell_type": "markdown",
   "id": "ff824009-7a05-4886-96ed-09c568642a3f",
   "metadata": {},
   "source": [
    "We begin with the time-independent Schrodinger equation for a molecule is\n",
    "\n",
    "$$H\\Psi = E\\Psi$$"
   ]
  },
  {
   "cell_type": "markdown",
   "id": "e34c55ac-0976-44d8-b9a1-e677de7fe9ac",
   "metadata": {},
   "source": [
    "## Orbitals"
   ]
  },
  {
   "cell_type": "markdown",
   "id": "2a69307b-a456-4de7-bc20-12376852013b",
   "metadata": {},
   "source": [
    "The most successful method to construct these one-electron wavefunctions $\\psi_i$ is to consider them delocalised over the whole molecule. Therefore there will be a set of orbitals, one for each electron, which are spread over the whole molecule. We call this type of treatment molecular orbital theory. The question then is what functions do we use to treat these one-electron delocalised orbitals. We know the solutions exactly for a hydrogen like atom so we can use atomic orbitals $\\phi_i(r_i)$ centred at each atom $r_i$ to be the basis for our delocalised molecular orbitals. We need to be able to optimise the amounts of each of these atomic orbitals in each of our one-electron delocalised orbitals so we consider a linear combination of atomic orbitals (LCAO).\n",
    "\n",
    "$$ \\psi_i(r_i) = \\sum_{\\mu}c_{\\mu}\\phi_{\\mu}(r_i) $$\n",
    "\n",
    "where the constants $c_i$ are going to be optimised to minimise the energy.\n",
    "\n",
    "The method relies on the vartionial principle which is true for the Hartree-Fock equations which is that any approximation you make (i.e. describing the electrons as a LCAO) will raise the energy above the real energy of the system. The advantage of a variational method is that you can systematically improve the wavefunction and improve your result knowing that you will be able to converge upon a value (which will be above the actual energy).\n",
    "\n",
    "The atomic orbitals are called the slater type orbitals for the $1s$ orbital this can be written as\n",
    "\n",
    "$$ \\phi^{SLA}(r) = (\\zeta^3/\\pi)^{1/2} e^{-\\zeta r} $$"
   ]
  },
  {
   "cell_type": "markdown",
   "id": "ec87f481-64e0-447a-99ab-270c181ea7c7",
   "metadata": {},
   "source": [
    "Let's have a look at the function by plotting it."
   ]
  },
  {
   "cell_type": "code",
   "execution_count": 1,
   "id": "4ad13257-7cfb-48f4-aa35-b125a5db8f86",
   "metadata": {},
   "outputs": [],
   "source": [
    "# Need to import some libraries to have the maths functions and plotting\n",
    "import numpy as np\n",
    "import scipy.special as sp\n",
    "import matplotlib.pyplot as plt\n",
    "\n",
    "%matplotlib inline"
   ]
  },
  {
   "cell_type": "code",
   "execution_count": 3,
   "id": "61bdaccb-60a4-4b90-a4b6-b970eb6751ed",
   "metadata": {},
   "outputs": [],
   "source": [
    "x = np.linspace(-5, 5, num=1000)\n",
    "r = abs(x)\n",
    "\n",
    "zeta = 1.0\n",
    "\n",
    "psi_STO = (zeta**3/np.pi)**(0.5)*np.exp(-zeta*r)"
   ]
  },
  {
   "cell_type": "code",
   "execution_count": 4,
   "id": "0feb3c58-c090-4bab-8d9d-586a1b9375cf",
   "metadata": {},
   "outputs": [
    {
     "data": {
      "image/png": "[encoded data removed]",
      "text/plain": [
       "<Figure size 432x288 with 1 Axes>"
      ]
     },
     "metadata": {
      "needs_background": "light"
     },
     "output_type": "display_data"
    }
   ],
   "source": [
    "fig, ax = plt.subplots()\n",
    "\n",
    "ax.plot(x, psi_STO)\n",
    "plt.show()"
   ]
  },
  {
   "cell_type": "markdown",
   "id": "29e65814-8607-43c8-90d3-2205a4e3bb2b",
   "metadata": {},
   "source": [
    "Slater type orbitals (STO) are the exact solutions for the hydrogen atom and provide an accurate basis set for many electron molecules however the calculations of the integrals are expensive as their is no simple exact solution for the integrals. One way around this is to approximate the Slater type orbitals using a sum of contracted Gaussian functions (CGF). There are simple analytical expressions for the integrals between two Gaussians so this can save a lot of computing time. Let's look at this for the case of the $1s$ orbital"
   ]
  },
  {
   "cell_type": "markdown",
   "id": "d98ce038-ac89-426d-9daa-b91738ecc050",
   "metadata": {},
   "source": [
    "$$ \\phi^{GF}(\\alpha) = (2\\alpha/\\pi)^{3/4} e^{-\\alpha r^2} $$\n",
    "\n",
    "$$ \\phi^{CGF}(r) = \\sum_n d_n\\phi_n^{GF}(\\alpha) $$"
   ]
  },
  {
   "cell_type": "markdown",
   "id": "77ec6a89-8343-4f86-8220-7a199892e6a2",
   "metadata": {},
   "source": [
    "We will make use of three Gaussians to approximate the slater type orbitals.\n",
    "\n",
    "$$ \\phi_{STO-3G}^{CGF}(r) = \\sum_n^3 d_n\\phi_n^{GF}(\\alpha) $$"
   ]
  },
  {
   "cell_type": "code",
   "execution_count": 5,
   "id": "7294a394-975e-4e4c-9c94-9021da574509",
   "metadata": {},
   "outputs": [],
   "source": [
    "# Coeff is the d_n variable in the equation above\n",
    "Coeff = np.array([[1.00000,0.0000000,0.000000],\n",
    "                  [0.678914,0.430129,0.000000],\n",
    "                  [0.444635,0.535328,0.154329]])\n",
    "\n",
    "# Expon is the alpha variable in the equation above\n",
    "Expon = np.array([[0.270950,0.000000,0.000000],\n",
    "                  [0.151623,0.851819,0.000000],\n",
    "                  [0.109818,0.405771,2.227660]])\n",
    "\n",
    "\n",
    "psi_CGF_STO1G = Coeff[0,0]*(2*Expon[0,0]/np.pi)**(0.75)*np.exp(-Expon[0,0]*r**2)\n",
    "\n",
    "psi_CGF_STO2G = Coeff[1,0]*(2*Expon[1,0]/np.pi)**(0.75)*np.exp(-Expon[1,0]*r**2) \\\n",
    "                + Coeff[1,1]*(2*Expon[1,1]/np.pi)**(0.75)*np.exp(-Expon[1,1]*r**2) \\\n",
    "                + Coeff[1,2]*(2*Expon[1,2]/np.pi)**(0.75)*np.exp(-Expon[1,2]*r**2)\n",
    "\n",
    "psi_CGF_STO3G = Coeff[2,0]*(2*Expon[2,0]/np.pi)**(0.75)*np.exp(-Expon[2,0]*r**2) \\\n",
    "                + Coeff[2,1]*(2*Expon[2,1]/np.pi)**(0.75)*np.exp(-Expon[2,1]*r**2) \\\n",
    "                + Coeff[2,2]*(2*Expon[2,2]/np.pi)**(0.75)*np.exp(-Expon[2,2]*r**2)"
   ]
  },
  {
   "cell_type": "code",
   "execution_count": 6,
   "id": "a7e15b7e-5b76-4cb6-948d-b20b8900728d",
   "metadata": {},
   "outputs": [
    {
     "data": {
      "image/png": "[encoded data removed]",
      "text/plain": [
       "<Figure size 360x216 with 1 Axes>"
      ]
     },
     "metadata": {
      "needs_background": "light"
     },
     "output_type": "display_data"
    },
    {
     "data": {
      "image/png": "[encoded data removed]",
      "text/plain": [
       "<Figure size 360x216 with 1 Axes>"
      ]
     },
     "metadata": {
      "needs_background": "light"
     },
     "output_type": "display_data"
    },
    {
     "data": {
      "image/png": "[encoded data removed]",
      "text/plain": [
       "<Figure size 360x216 with 1 Axes>"
      ]
     },
     "metadata": {
      "needs_background": "light"
     },
     "output_type": "display_data"
    }
   ],
   "source": [
    "# Plot the three functions\n",
    "plt.figure(figsize=(5,3))\n",
    "plt.title(\"Approximations to a STO with CGF\")\n",
    "plt.plot(x,psi_STO,label=\"STO\")\n",
    "plt.plot(x,psi_CGF_STO1G,label=\"STO-1G\")\n",
    "plt.legend()\n",
    "plt.figure(figsize=(5,3))\n",
    "plt.plot(x,psi_STO,label=\"STO\")\n",
    "plt.plot(x,psi_CGF_STO2G,label=\"STO-2G\")\n",
    "plt.legend()\n",
    "plt.figure(figsize=(5,3))\n",
    "plt.plot(x,psi_STO,label=\"STO\")\n",
    "plt.plot(x,psi_CGF_STO3G,label=\"STO-3G\")\n",
    "plt.legend()\n",
    "plt.show()"
   ]
  },
  {
   "cell_type": "markdown",
   "id": "8a9ec601-a03b-4eaf-89e6-f73a7c065b71",
   "metadata": {},
   "source": [
    "As the number of Gaussians is increased the function more closely describes the slater type orbitals. You will also see that nearest the centre $(x=0)$ the approximation is poorest. This region is called the cusp.\n",
    "\n",
    "We will use this very poor basis set for our $HeH+$ molecule for ease of calculation but for accurate calculations at the very least a 6-311G(d,p) basis set will used which would have 6 contracted Gaussian functions to describe hydrogen and helium 1s orbital."
   ]
  },
  {
   "cell_type": "markdown",
   "id": "949bbcdf-81a1-49e2-878b-ba781db2a256",
   "metadata": {},
   "source": [
    "## Roothaan-Hall equations"
   ]
  },
  {
   "cell_type": "markdown",
   "id": "2cbd8ae1-0f2c-4dbb-9790-cc6e99e16f33",
   "metadata": {},
   "source": [
    "The Hartree-Fock equations need to be converted into a tabular form (matrix form) using the basis set of atomic orbitals to allow for a solution to be determined using the computer. We insert our basis set of orbitals $ \\sum_i c_i\\phi_i^{CGF}(r_i) $ (we will drop the superscript and just have the orbitals denoted as $\\phi_i$) We are also going to be building up a table by combining different basis set indices so will use the subscripts $\\nu$ and $\\mu$ to denotes the indices as we build up the table/matrix. We will also replace $(r\\nu)$ with $(1)$ for ease of reading."
   ]
  },
  {
   "cell_type": "markdown",
   "id": "e5ec2564-89d5-450e-a774-4a26f715e74e",
   "metadata": {},
   "source": [
    "## Integrals"
   ]
  },
  {
   "cell_type": "markdown",
   "id": "77301622-f92e-43a6-9ec8-72d8c8bbeb2b",
   "metadata": {},
   "source": [
    "The computation of the various integrals can be calculated as simple functions when Gaussians are used (for a detailed description I recommend the appendix in Modern Quantum Chemistry)."
   ]
  },
  {
   "cell_type": "code",
   "execution_count": 7,
   "id": "0f4500f5-7a85-4e37-b1a0-f3a2de7f1bea",
   "metadata": {},
   "outputs": [],
   "source": [
    "def S_int(A,B,Rab2):\n",
    "    \"\"\"\n",
    "    Calculates the overlap between two gaussian functions \n",
    "    \"\"\"\n",
    "    return (np.pi/(A+B))**1.5*np.exp(-A*B*Rab2/(A+B))\n",
    "\n",
    "\n",
    "def T_int(A,B,Rab2):\n",
    "    \"\"\"\n",
    "    Calculates the kinetic energy integrals for un-normalised primitives    \n",
    "    \"\"\"\n",
    "    return A*B/(A+B)*(3.0-2.0*A*B*Rab2/(A+B))*(np.pi/(A+B))**1.5*np.exp(-A*B*Rab2/(A+B))\n",
    "\n",
    "\n",
    "\n",
    "def V_int(A,B,Rab2,Rcp2,Zc):\n",
    "    \"\"\"\n",
    "    Calculates the un-normalised nuclear attraction integrals\n",
    "    \"\"\"\n",
    "    V = 2.0*np.pi/(A+B)*F0((A+B)*Rcp2)*np.exp(-A*B*Rab2/(A+B))\n",
    "    return -V*Zc\n",
    "\n",
    "\n",
    "\n",
    "\n",
    "# Mathematical functions\n",
    "\n",
    "def F0(t):\n",
    "    \"\"\"\n",
    "    F function for 1s orbital\n",
    "    \"\"\"\n",
    "    if (t<1e-6):\n",
    "        return 1.0-t/3.0\n",
    "    else:\n",
    "        return 0.5*(np.pi/t)**0.5*sp.erf(t**0.5)\n",
    "    \n",
    "def erf(t):\n",
    "    \"\"\"\n",
    "    Approximation for the error function\n",
    "    \"\"\"\n",
    "    P = 0.3275911\n",
    "    A = [0.254829592,-0.284496736,1.421413741,-1.453152027,1.061405429]\n",
    "    T = 1.0/(1+P*t)\n",
    "    Tn=T\n",
    "    Poly = A[0]*Tn\n",
    "    for i in range(1,5):\n",
    "        Tn=Tn*T\n",
    "        Poly=Poly*A[i]*Tn\n",
    "    return 1.0-Poly*np.exp(-t*t)\n",
    "\n",
    "\n",
    "\n",
    "\n",
    "\n",
    "def TwoE(A,B,C,D,Rab2,Rcd2,Rpq2):\n",
    "    \"\"\"\n",
    "    Calculate two electron integrals\n",
    "    A,B,C,D are the exponents alpha, beta, etc.\n",
    "    Rab2 equals squared distance between centre A and centre B\n",
    "    \"\"\"\n",
    "    return 2.0*(np.pi**2.5)/((A+B)*(C+D)*np.sqrt(A+B+C+D))*F0((A+B)*(C+D)*Rpq2/(A+B+C+D))*np.exp(-A*B*Rab2/(A+B)-C*D*Rcd2/(C+D))\n",
    "\n",
    "\n",
    "\n",
    "\n",
    "\n",
    "def Intgrl(N,R,Zeta1,Zeta2,Za,Zb):\n",
    "    \"\"\"\n",
    "    Declares the variables and compiles the integrals.\n",
    "    \"\"\"\n",
    "    \n",
    "    global S12,T11,T12,T22,V11A,V12A,V22A,V11B,V12B,V22B,V1111,V2111,V2121,V2211,V2221,V2222\n",
    "    \n",
    "    \n",
    "    S12 = 0.0\n",
    "    T11 = 0.0\n",
    "    T12 = 0.0\n",
    "    T22 = 0.0\n",
    "    V11A = 0.0\n",
    "    V12A = 0.0\n",
    "    V22A = 0.0\n",
    "    V11B = 0.0\n",
    "    V12B = 0.0\n",
    "    V22B = 0.0\n",
    "    V1111 = 0.0\n",
    "    V2111 = 0.0\n",
    "    V2121 = 0.0\n",
    "    V2211 = 0.0\n",
    "    V2221 = 0.0\n",
    "    V2222 = 0.0\n",
    "    \n",
    "    R2 = R*R\n",
    "    \n",
    "    # The coefficients for the contracted Gaussian functions are below\n",
    "    Coeff = np.array([[1.00000,0.0000000,0.000000],\n",
    "                      [0.678914,0.430129,0.000000],\n",
    "                      [0.444635,0.535328,0.154329]])\n",
    "    \n",
    "    Expon = np.array([[0.270950,0.000000,0.000000],\n",
    "                      [0.151623,0.851819,0.000000],\n",
    "                      [0.109818,0.405771,2.227660]])\n",
    "    D1 = np.zeros([3])\n",
    "    A1 = np.zeros([3])\n",
    "    D2 = np.zeros([3])\n",
    "    A2 = np.zeros([3])\n",
    "    \n",
    "    # This loop constructs the contracted Gaussian functions\n",
    "    for i in range(N):\n",
    "        A1[i] = Expon[N-1,i]*(Zeta1**2)\n",
    "        D1[i] = Coeff[N-1,i]*((2.0*A1[i]/np.pi)**0.75)\n",
    "        A2[i] = Expon[N-1,i]*(Zeta2**2)\n",
    "        D2[i] = Coeff[N-1,i]*((2.0*A2[i]/np.pi)**0.75)\n",
    "    \n",
    "    # Calculate one electron integrals \n",
    "    # Centre A is first atom centre B is second atom\n",
    "    # Origin is on second atom\n",
    "    # V12A - off diagonal nuclear attraction to centre A etc.\n",
    "    for i in range(N):\n",
    "        for j in range(N):\n",
    "            # Rap2 - squared distance between centre A and centre P\n",
    "            Rap = A2[j]*R/(A1[i]+A2[j])\n",
    "            Rap2 = Rap**2\n",
    "            Rbp2 = (R-Rap)**2\n",
    "            S12 = S12 + S_int(A1[i],A2[j],R2)*D1[i]*D2[j]\n",
    "            T11 = T11 + T_int(A1[i],A1[j],0.0)*D1[i]*D1[j]\n",
    "            T12 = T12 + T_int(A1[i],A2[j],R2)*D1[i]*D2[j]\n",
    "            T22 = T22 + T_int(A2[i],A2[j],0.0)*D2[i]*D2[j]\n",
    "            V11A = V11A + V_int(A1[i],A1[j],0.0,0.0,Za)*D1[i]*D1[j]\n",
    "            V12A = V12A + V_int(A1[i],A2[j],R2,Rap2,Za)*D1[i]*D2[j]\n",
    "            V22A = V22A + V_int(A2[i],A2[j],0.0,R2,Za)*D2[i]*D2[j]\n",
    "            V11B = V11B + V_int(A1[i],A1[j],0.0,R2,Zb)*D1[i]*D1[j]\n",
    "            V12B = V12B + V_int(A1[i],A2[j],R2,Rbp2,Zb)*D1[i]*D2[j]\n",
    "            V22B = V22B + V_int(A2[i],A2[j],0.0,0.0,Zb)*D2[i]*D2[j]\n",
    "    \n",
    "    # Calculate two electron integrals\n",
    "    \n",
    "    for i in range(N):\n",
    "        for j in range(N):\n",
    "            for k in range(N):\n",
    "                for l in range(N):\n",
    "                    Rap = A2[i]*R/(A2[i]+A1[j])\n",
    "                    Rbp = R - Rap\n",
    "                    Raq = A2[k]*R/(A2[k]+A1[l])\n",
    "                    Rbq = R - Raq\n",
    "                    Rpq = Rap - Raq\n",
    "                    Rap2 = Rap*Rap\n",
    "                    Rbp2 = Rbp*Rbp\n",
    "                    Raq2 = Raq*Raq\n",
    "                    Rbq2 = Rbq*Rbq\n",
    "                    Rpq2 = Rpq*Rpq\n",
    "                    V1111 = V1111 + TwoE(A1[i],A1[j],A1[k],A1[l],0.0,0.0,0.0)*D1[i]*D1[j]*D1[k]*D1[l]\n",
    "                    V2111 = V2111 + TwoE(A2[i],A1[j],A1[k],A1[l],R2,0.0,Rap2)*D2[i]*D1[j]*D1[k]*D1[l]\n",
    "                    V2121 = V2121 + TwoE(A2[i],A1[j],A2[k],A1[l],R2,R2,Rpq2)*D2[i]*D1[j]*D2[k]*D1[l]\n",
    "                    V2211 = V2211 + TwoE(A2[i],A2[j],A1[k],A1[l],0.0,0.0,R2)*D2[i]*D2[j]*D1[k]*D1[l]\n",
    "                    V2221 = V2221 + TwoE(A2[i],A2[j],A2[k],A1[l],0.0,R2,Rbq2)*D2[i]*D2[j]*D2[k]*D1[l]\n",
    "                    V2222 = V2222 + TwoE(A2[i],A2[j],A2[k],A2[l],0.0,0.0,0.0)*D2[i]*D2[j]*D2[k]*D2[l]\n",
    "    return \n",
    "\n"
   ]
  },
  {
   "cell_type": "code",
   "execution_count": 8,
   "id": "c7812549-720a-4848-9828-812ef678c029",
   "metadata": {},
   "outputs": [],
   "source": [
    "def Colect(N,R,Zeta1,Zeta2,Za,Zb):\n",
    "    \"\"\"\n",
    "    Takes the basic integrals and assembles the relevant matrices, \n",
    "    that are S,H,X,XT and Two electron integrals\n",
    "    \"\"\"\n",
    "    # Form core hamiltonian\n",
    "    H[0,0] = T11+V11A+V11B\n",
    "    H[0,1] = T12+V12A+V12B\n",
    "    H[1,0] = H[0,1]\n",
    "    H[1,1] = T22+V22A+V22B\n",
    "\n",
    "    # Form overlap matrix\n",
    "    S[0,0] = 1.0\n",
    "    S[0,1] = S12\n",
    "    S[1,0] = S12\n",
    "    S[1,1] = 1.0\n",
    "    \n",
    "    # This is S^-1/2\n",
    "    X[0,0] = 1.0/np.sqrt(2.0*(1.0+S12))\n",
    "    X[1,0] = X[0,0]\n",
    "    X[0,1] = 1.0/np.sqrt(2.0*(1.0-S12))\n",
    "    X[1,1] = -X[0,1]\n",
    "    \n",
    "    # This is the coulomb and exchange term (aa|bb) and (ab|ba)\n",
    "    TT[0,0,0,0] = V1111\n",
    "    TT[1,0,0,0] = V2111\n",
    "    TT[0,1,0,0] = V2111\n",
    "    TT[0,0,1,0] = V2111\n",
    "    TT[0,0,0,1] = V2111\n",
    "    TT[1,0,1,0] = V2121\n",
    "    TT[0,1,1,0] = V2121\n",
    "    TT[1,0,0,1] = V2121\n",
    "    TT[0,1,0,1] = V2121\n",
    "    TT[1,1,0,0] = V2211\n",
    "    TT[0,0,1,1] = V2211\n",
    "    TT[1,1,1,0] = V2221\n",
    "    TT[1,1,0,1] = V2221\n",
    "    TT[1,0,1,1] = V2221\n",
    "    TT[0,1,1,1] = V2221\n",
    "    TT[1,1,1,1] = V2222\n"
   ]
  },
  {
   "cell_type": "markdown",
   "id": "1483676f-1813-46e0-a495-b10bf0b4f1fb",
   "metadata": {},
   "source": [
    "## Self consistent field calculation"
   ]
  },
  {
   "cell_type": "code",
   "execution_count": 9,
   "id": "47c08b38-0393-4152-bbb9-9b0991ea5178",
   "metadata": {},
   "outputs": [],
   "source": [
    "def SCF(N,R,Zeta1,Zeta2,Za,Zb,G):\n",
    "    \"\"\"\n",
    "    Performs the SCF iterations\n",
    "    \"\"\"\n",
    "    Crit = 1e-11 # Convergence critera\n",
    "    Maxit = 250 # Maximum number of iterations\n",
    "    Iter=0\n",
    "    \n",
    "    ######## STEP 1. Guess an initial density matrix ########\n",
    "    # Use core hamiltonian for initial guess of F, I.E. (P=0)\n",
    "    P = np.zeros([2,2])\n",
    "    \n",
    "    Energy = 0.0\n",
    "    \n",
    "    while (Iter<Maxit):\n",
    "        Iter += 1\n",
    "        print(Iter)\n",
    "        \n",
    "        ######## STEP 2. calculate the Fock matrix ########\n",
    "        # Form two electron part of Fock matrix from P\n",
    "        G = np.zeros([2,2]) # This is the two electron contribution in the equations above\n",
    "        for i in range(2):\n",
    "            for j in range(2):\n",
    "                for k in range(2):\n",
    "                    for l in range(2):\n",
    "                        G[i,j]=G[i,j]+P[k,l]*(TT[i,j,k,l]-0.5*TT[i,j,k,l])\n",
    "\n",
    "        # Add core hamiltonian H^CORE to get fock matrix\n",
    "        F = H+G\n",
    "        \n",
    "        # Calculate the electronic energy\n",
    "        Energy = np.sum(0.5*P*(H+F))\n",
    "        \n",
    "        print('Electronic energy = ',Energy)\n",
    "        \n",
    "        ######## STEP 3. Calculate F' (remember S^-1/2 is X and S^1/2 is X.T) ########\n",
    "        G = np.matmul(F,X)\n",
    "        Fprime = np.matmul(X.T,G)\n",
    "        \n",
    "        ######## STEP 4. Solve the eigenvalue problem ########\n",
    "        # Diagonalise transformed Fock matrix\n",
    "        Diag(Fprime,Cprime,E)\n",
    "        \n",
    "        ######## STEP 5. Calculate the molecular orbitals coefficients ########\n",
    "        # Transform eigen vectors to get matrix C\n",
    "        C = np.matmul(X,Cprime)\n",
    "        \n",
    "        ######## STEP 6. Calculate the new density matrix from the old P ########\n",
    "        Oldp = np.array(P)\n",
    "        P= np.zeros([2,2])\n",
    "        \n",
    "        # Form new density matrix\n",
    "        for i in range(2):\n",
    "            for j in range(2):\n",
    "                #Save present density matrix before creating a new one\n",
    "                for k in range(1):\n",
    "                    P[i,j] += 2.0*C[i,k]*C[j,k]\n",
    "\n",
    "        ######## STEP 7. Check to see if the energy has converged ########\n",
    "        Delta = 0.0\n",
    "        # Calculate delta the difference between the old density matrix Old P and the new P\n",
    "        Delta = (P-Oldp)\n",
    "        Delta = np.sqrt(np.sum(Delta**2)/4.0)\n",
    "        print(\"Delta\",Delta)\n",
    "        \n",
    "        #Check for convergence\n",
    "        if (Delta<Crit):\n",
    "            # Add nuclear repulsion to get the total energy\n",
    "            Energytot = Energy+Za*Zb/R\n",
    "            print(\"Calculation converged with electronic energy:\",Energy)\n",
    "            print(\"Calculation converged with total energy:\",Energytot)\n",
    "            print(\"Density matrix\", P)\n",
    "            print(\"Mulliken populations\",np.matmul(P,S))\n",
    "            print(\"Coeffients\",C)\n",
    "            \n",
    "            break"
   ]
  },
  {
   "cell_type": "code",
   "execution_count": 10,
   "id": "073cb0de-d2cb-4a51-975e-82ef19f018c0",
   "metadata": {},
   "outputs": [],
   "source": [
    "def FormG():\n",
    "    \"\"\"\n",
    "    Calculate the G matrix from the density matrix and two electron integals\n",
    "    \"\"\"\n",
    "    for i in range(2):\n",
    "        for j in range(2):\n",
    "            G[i,j]=0.0\n",
    "            for k in range(2):\n",
    "                for l in range(2):\n",
    "                    G[i,j]=G[i,j]+P[k,l]*(TT[i,j,k,l]-0.5*TT[i,j,k,l])\n",
    "                    \n",
    "def Mult(A,B,C_,IM,M):\n",
    "    \"\"\"\n",
    "    Multiples two square matrices A and B to get C\n",
    "    \"\"\"\n",
    "    for i in range(M):\n",
    "        for j in range(M):\n",
    "            for k in range(M):\n",
    "                C_[i,j] = A[i,j]*B[i,j]\n",
    "                \n",
    "def Diag(Fprime,Cprime,E):\n",
    "    \"\"\"\n",
    "    Diagonalises F to give eigenvectors in C and eigen values in E, theta is the angle describing the solution\n",
    "    \"\"\"\n",
    "    # \n",
    "    import math\n",
    "    # Angle for heteronuclear diatonic\n",
    "    Theta = 0.5*math.atan(2.0*Fprime[0,1]/(Fprime[0,0]-Fprime[1,1]))\n",
    "    #print('Theta', Theta)\n",
    "    \n",
    "    Cprime[0,0] = np.cos(Theta)\n",
    "    Cprime[1,0] = np.sin(Theta)\n",
    "    Cprime[0,1] = np.sin(Theta)\n",
    "    Cprime[1,1] = -np.cos(Theta)\n",
    "    \n",
    "    E[0,0] = Fprime[0,0]*np.cos(Theta)**2+Fprime[1,1]*np.sin(Theta)**2+Fprime[0,1]*np.sin(2.0*Theta)\n",
    "    E[1,1] = Fprime[1,1]*np.cos(Theta)**2+Fprime[0,0]*np.sin(Theta)**2-Fprime[0,1]*np.sin(2.0*Theta)\n",
    "    \n",
    "    if (E[1,1] <= E[0,0]):\n",
    "        Temp = E[1,1]\n",
    "        E[1,1] = E[0,0]\n",
    "        E[0,0] = Temp\n",
    "        Temp = Cprime[0,1]\n",
    "        Cprime[0,1] = Cprime[0,0]\n",
    "        Cprime[0,0] = Temp\n",
    "        Temp = Cprime[1,1]\n",
    "        Cprime[1,1]=Cprime[1,0]\n",
    "        Cprime[1,0]=Temp\n",
    "    return"
   ]
  },
  {
   "cell_type": "code",
   "execution_count": 11,
   "id": "f1a8e85c-24d4-40f0-9c95-cedb9affd55e",
   "metadata": {},
   "outputs": [],
   "source": [
    "def HFCALC(N,R,Zeta1,Zeta2,Za,Zb,G):\n",
    "    \"\"\"\n",
    "    Calculates the integrals constructs the matrices and then runs the SCF calculation\n",
    "    \"\"\"\n",
    "    # Calculate one and two electron integrals\n",
    "    Intgrl(N,R,Zeta1,Zeta2,Za,Zb)\n",
    "    # Put all integals into array\n",
    "    Colect(N,R,Zeta1,Zeta2,Za,Zb)\n",
    "    # Perform the SCF calculation\n",
    "    SCF(N,R,Zeta1,Zeta2,Za,Zb,G)\n",
    "    return"
   ]
  },
  {
   "cell_type": "code",
   "execution_count": 12,
   "id": "8f5b79c2-890c-4f3a-a1e0-a3c47c09540f",
   "metadata": {},
   "outputs": [
    {
     "name": "stdout",
     "output_type": "stream",
     "text": [
      "1\n",
      "Electronic energy =  0.0\n",
      "Delta 0.8828668530136917\n",
      "2\n",
      "Electronic energy =  -4.141862876133924\n",
      "Delta 0.4263766628496478\n",
      "3\n",
      "Electronic energy =  -4.212505158147097\n",
      "Delta 0.16975144403838754\n",
      "4\n",
      "Electronic energy =  -4.224917134805615\n",
      "Delta 0.07267662655588335\n",
      "5\n",
      "Electronic energy =  -4.227057963457619\n",
      "Delta 0.030557750857188388\n",
      "6\n",
      "Electronic energy =  -4.2274451653170315\n",
      "Delta 0.012968917066136268\n",
      "7\n",
      "Electronic energy =  -4.227514202089319\n",
      "Delta 0.005484174932893008\n",
      "8\n",
      "Electronic energy =  -4.227526599371511\n",
      "Delta 0.0023227903428170793\n",
      "9\n",
      "Electronic energy =  -4.227528819312722\n",
      "Delta 0.0009831518344974117\n",
      "10\n",
      "Electronic energy =  -4.227529217321419\n",
      "Delta 0.0004162497141851593\n",
      "11\n",
      "Electronic energy =  -4.227529288642739\n",
      "Delta 0.0001762119957375153\n",
      "12\n",
      "Electronic energy =  -4.227529301425998\n",
      "Delta 7.460002282548679e-05\n",
      "13\n",
      "Electronic energy =  -4.22752930371699\n",
      "Delta 3.1581529191478555e-05\n",
      "14\n",
      "Electronic energy =  -4.227529304127593\n",
      "Delta 1.3369996256528571e-05\n",
      "15\n",
      "Electronic energy =  -4.227529304201182\n",
      "Delta 5.660147518148093e-06\n",
      "16\n",
      "Electronic energy =  -4.227529304214371\n",
      "Delta 2.396210241800624e-06\n",
      "17\n",
      "Electronic energy =  -4.227529304216735\n",
      "Delta 1.014429316219236e-06\n",
      "18\n",
      "Electronic energy =  -4.227529304217159\n",
      "Delta 4.294561133852487e-07\n",
      "19\n",
      "Electronic energy =  -4.227529304217233\n",
      "Delta 1.8180914907929353e-07\n",
      "20\n",
      "Electronic energy =  -4.2275293042172475\n",
      "Delta 7.696844345507004e-08\n",
      "21\n",
      "Electronic energy =  -4.22752930421725\n",
      "Delta 3.2584395202991233e-08\n",
      "22\n",
      "Electronic energy =  -4.227529304217251\n",
      "Delta 1.3794521310145388e-08\n",
      "23\n",
      "Electronic energy =  -4.22752930421725\n",
      "Delta 5.839876050606837e-09\n",
      "24\n",
      "Electronic energy =  -4.227529304217251\n",
      "Delta 2.4722969625894194e-09\n",
      "25\n",
      "Electronic energy =  -4.227529304217251\n",
      "Delta 1.0466405412830377e-09\n",
      "26\n",
      "Electronic energy =  -4.227529304217251\n",
      "Delta 4.4309262759580606e-10\n",
      "27\n",
      "Electronic energy =  -4.227529304217251\n",
      "Delta 1.8758207014503013e-10\n",
      "28\n",
      "Electronic energy =  -4.227529304217251\n",
      "Delta 7.941234693562014e-11\n",
      "29\n",
      "Electronic energy =  -4.22752930421725\n",
      "Delta 3.3618876020147625e-11\n",
      "30\n",
      "Electronic energy =  -4.227529304217251\n",
      "Delta 1.4232286447314373e-11\n",
      "31\n",
      "Electronic energy =  -4.227529304217251\n",
      "Delta 6.025252121340928e-12\n",
      "Calculation converged with electronic energy: -4.227529304217251\n",
      "Calculation converged with total energy: -2.860662163703309\n",
      "Density matrix [[1.28614168 0.54017322]\n",
      " [0.54017322 0.22687011]]\n",
      "Mulliken populations [[1.52963579 1.11992783]\n",
      " [0.64243955 0.47036421]]\n",
      "Coeffients [[ 0.80191698 -0.78226577]\n",
      " [ 0.33680121  1.06844537]]\n"
     ]
    }
   ],
   "source": [
    "\"\"\"\n",
    "Let's set up the variables and perform the calculations\n",
    "\"\"\"\n",
    "global H,S,X,XT,TT,G,C,P,Oldp,F,Fprime,Cprime,E,Zb\n",
    "\n",
    "H = np.zeros([2,2])\n",
    "S = np.zeros([2,2])\n",
    "X = np.zeros([2,2])\n",
    "XT = np.zeros([2,2])\n",
    "TT = np.zeros([2,2,2,2])\n",
    "G = np.zeros([2,2])\n",
    "C = np.zeros([2,2])\n",
    "\n",
    "P = np.zeros([2,2])\n",
    "Oldp = np.zeros([2,2])\n",
    "F = np.zeros([2,2])\n",
    "Fprime = np.zeros([2,2])\n",
    "Cprime = np.zeros([2,2])\n",
    "E = np.zeros([2,2])\n",
    "\n",
    "Energy = 0.0\n",
    "Delta = 0.0\n",
    "\n",
    "N = 3\n",
    "R = 1.4632\n",
    "Zeta1 = 2.0925\n",
    "Zeta2 = 1.24\n",
    "Za = 2.0\n",
    "Zb = 1.0\n",
    "HFCALC(N,R,Zeta1,Zeta2,Za,Zb,G)"
   ]
  },
  {
   "cell_type": "code",
   "execution_count": 16,
   "id": "cdab1b15-6b8c-4d4c-9568-99856a4b2d54",
   "metadata": {},
   "outputs": [
    {
     "data": {
      "text/plain": [
       "(-2.95, -2.75)"
      ]
     },
     "execution_count": 16,
     "metadata": {},
     "output_type": "execute_result"
    },
    {
     "data": {
      "image/png": "[encoded data removed]",
      "text/plain": [
       "<Figure size 432x288 with 1 Axes>"
      ]
     },
     "metadata": {
      "needs_background": "light"
     },
     "output_type": "display_data"
    }
   ],
   "source": [
    "plt.bar(\n",
    "    [1,2,3,4,5,6],\n",
    "    [-2.8669283534318275,-2.8418364990824458,-2.9098394146425748,-2.9322482557926945,-2.9322713663802804,-2.932878077558255],\n",
    "    tick_label=['STO-3G','STO-3G','6-31G(d)','cc-pVTZ','aug-cc-pVTZ','aug-cc-pVQZ']\n",
    ")\n",
    "\n",
    "plt.ylim(-2.95, -2.75)"
   ]
  },
  {
   "cell_type": "markdown",
   "id": "347c7421-d0b0-41b0-9668-27a6ec2ee159",
   "metadata": {},
   "source": [
    "## Molecular orbitals"
   ]
  },
  {
   "cell_type": "markdown",
   "id": "45060059-c619-4910-8e1f-1732c60aa661",
   "metadata": {},
   "source": [
    "Let's consider the shape of the molecular orbtials and electron density for this molecule along the bond length."
   ]
  },
  {
   "cell_type": "code",
   "execution_count": 17,
   "id": "20369eef-db1e-4640-b51d-d50998d8c8de",
   "metadata": {},
   "outputs": [],
   "source": [
    "C = np.matmul(X,Cprime)\n",
    "P = np.array([[ 1.28614168,0.54017322],\n",
    " [ 0.54017322 ,0.22687011]])\n",
    "\n",
    "x = np.linspace(-8,8,num=1000)\n",
    "r1 = abs(x+R/2)\n",
    "r2 = abs(x-R/2)\n",
    "\n",
    "psi_CGF_STO3G_He = Coeff[2,0]*(2*Expon[2,0]/np.pi)**(0.75)*np.exp(-Expon[2,0]*r1**2) \\\n",
    "                + Coeff[2,1]*(2*Expon[2,1]/np.pi)**(0.75)*np.exp(-Expon[2,1]*r1**2) \\\n",
    "                + Coeff[2,2]*(2*Expon[2,2]/np.pi)**(0.75)*np.exp(-Expon[2,2]*r1**2)\n",
    "        \n",
    "psi_CGF_STO3G_H = Coeff[2,0]*(2*Expon[2,0]/np.pi)**(0.75)*np.exp(-Expon[2,0]*r2**2) \\\n",
    "                + Coeff[2,1]*(2*Expon[2,1]/np.pi)**(0.75)*np.exp(-Expon[2,1]*r2**2) \\\n",
    "                + Coeff[2,2]*(2*Expon[2,2]/np.pi)**(0.75)*np.exp(-Expon[2,2]*r2**2)\n",
    "\n",
    "density = np.zeros(x.shape)\n",
    "        \n",
    "density = density + P[0,0]*psi_CGF_STO3G_He*psi_CGF_STO3G_He\n",
    "density = density + P[1,1]*psi_CGF_STO3G_H*psi_CGF_STO3G_H\n",
    "density = density + 2*P[0,1]*psi_CGF_STO3G_He*psi_CGF_STO3G_H"
   ]
  },
  {
   "cell_type": "code",
   "execution_count": 19,
   "id": "af3d6fc4-112b-4565-a9d4-9139b493d2c9",
   "metadata": {},
   "outputs": [
    {
     "data": {
      "text/plain": [
       "<matplotlib.legend.Legend at 0x7f9ae305b580>"
      ]
     },
     "execution_count": 19,
     "metadata": {},
     "output_type": "execute_result"
    },
    {
     "data": {
      "image/png": "[encoded data removed]",
      "text/plain": [
       "<Figure size 504x288 with 1 Axes>"
      ]
     },
     "metadata": {
      "needs_background": "light"
     },
     "output_type": "display_data"
    }
   ],
   "source": [
    "plt.figure(figsize=(7,4))\n",
    "plt.title(\"Molecular orbitals\")\n",
    "\n",
    "plt.plot(x,C[0,0]*psi_CGF_STO3G_He+C[1,0]*psi_CGF_STO3G_H,label=\"Bonding\")\n",
    "plt.plot(x,C[0,1]*psi_CGF_STO3G_He+C[1,1]*psi_CGF_STO3G_H,label=\"Anti-bonding\")\n",
    "plt.legend(loc=4)"
   ]
  },
  {
   "cell_type": "code",
   "execution_count": 20,
   "id": "e776e83d-97ba-45d6-9a09-3413d283bcf5",
   "metadata": {},
   "outputs": [
    {
     "data": {
      "text/plain": [
       "[<matplotlib.lines.Line2D at 0x7f9ae1efea30>]"
      ]
     },
     "execution_count": 20,
     "metadata": {},
     "output_type": "execute_result"
    },
    {
     "data": {
      "image/png": "[encoded data removed]",
      "text/plain": [
       "<Figure size 504x288 with 1 Axes>"
      ]
     },
     "metadata": {
      "needs_background": "light"
     },
     "output_type": "display_data"
    }
   ],
   "source": [
    "plt.figure(figsize=(7,4))\n",
    "plt.title(\"Electron density $\\Psi^{2}$\")\n",
    "plt.plot(x,density)"
   ]
  },
  {
   "cell_type": "code",
   "execution_count": null,
   "id": "49973114-8480-475f-9690-3b762b7808ee",
   "metadata": {},
   "outputs": [],
   "source": []
  }
 ],
 "metadata": {
  "kernelspec": {
   "display_name": "Python 3 (ipykernel)",
   "language": "python",
   "name": "python3"
  },
  "language_info": {
   "codemirror_mode": {
    "name": "ipython",
    "version": 3
   },
   "file_extension": ".py",
   "mimetype": "text/x-python",
   "name": "python",
   "nbconvert_exporter": "python",
   "pygments_lexer": "ipython3",
   "version": "3.9.12"
  }
 },
 "nbformat": 4,
 "nbformat_minor": 5
}
