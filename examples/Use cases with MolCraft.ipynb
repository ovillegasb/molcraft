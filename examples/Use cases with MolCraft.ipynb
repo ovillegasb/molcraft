{
 "cells": [
  {
   "cell_type": "markdown",
   "id": "97f4f094-c9fb-46ce-800f-b2d55286e0e2",
   "metadata": {},
   "source": [
    "# Use cases with MolCraft"
   ]
  },
  {
   "cell_type": "markdown",
   "id": "0032f1ec",
   "metadata": {},
   "source": [
    "_Orlando Villegas_"
   ]
  },
  {
   "cell_type": "markdown",
   "id": "d8728865",
   "metadata": {},
   "source": [
    "`MolCraft` is a module that helps me to put together different functions and tools to manage molecular systems. It was born from my PhD thesis and has evolved over the years.\n",
    "\n",
    "Here I compile some useful cases for implementing `MolCraft`."
   ]
  },
  {
   "cell_type": "markdown",
   "id": "7165f477",
   "metadata": {},
   "source": [
    "<a id=\"0\"></a>\n",
    "\n",
    "## Table of Contents\n",
    "\n",
    "* [Format conversion](#1)\n"
   ]
  },
  {
   "cell_type": "code",
   "execution_count": 1,
   "id": "c59b466a",
   "metadata": {},
   "outputs": [],
   "source": [
    "%load_ext autoreload\n",
    "%autoreload 2"
   ]
  },
  {
   "cell_type": "markdown",
   "id": "e41ac17c",
   "metadata": {},
   "source": [
    "<a class=\"anchor\" id=\"1\"></a>\n",
    "\n",
    "## Format conversion\n",
    "\n",
    "[Table of Contents](#0)"
   ]
  },
  {
   "cell_type": "code",
   "execution_count": 9,
   "id": "b85e3172",
   "metadata": {},
   "outputs": [],
   "source": [
    "from molcraft.molconvert import smi2xyz"
   ]
  },
  {
   "cell_type": "code",
   "execution_count": 13,
   "id": "393db394",
   "metadata": {},
   "outputs": [
    {
     "name": "stdout",
     "output_type": "stream",
     "text": [
      "12\n",
      "\n",
      "C     -0.985926    0.991043    0.055716\n",
      "C      0.365615    1.350329    0.016075\n",
      "C      1.351541    0.359286   -0.039642\n",
      "C      0.985926   -0.991043   -0.055722\n",
      "C     -0.365615   -1.350329   -0.016076\n",
      "C     -1.351541   -0.359286    0.039646\n",
      "H     -1.748666    1.757742    0.098817\n",
      "H      0.648465    2.394982    0.028509\n",
      "H      2.397131    0.637240   -0.070310\n",
      "H      1.748666   -1.757742   -0.098828\n",
      "H     -0.648465   -2.394982   -0.028507\n",
      "H     -2.397131   -0.637239    0.070323\n",
      "\n"
     ]
    }
   ],
   "source": [
    "mol_xyz = smi2xyz(\"C1=CC=CC=C1\")\n",
    "print(mol_xyz)"
   ]
  },
  {
   "cell_type": "code",
   "execution_count": null,
   "id": "ad1d1895",
   "metadata": {},
   "outputs": [],
   "source": []
  },
  {
   "cell_type": "code",
   "execution_count": null,
   "id": "67706639",
   "metadata": {},
   "outputs": [],
   "source": []
  },
  {
   "cell_type": "code",
   "execution_count": null,
   "id": "1b69cdcf",
   "metadata": {},
   "outputs": [],
   "source": []
  },
  {
   "cell_type": "code",
   "execution_count": 1,
   "id": "d9434b2d-4195-4574-8508-9c81d94b2194",
   "metadata": {},
   "outputs": [],
   "source": [
    "%load_ext autoreload\n",
    "%autoreload 2"
   ]
  },
  {
   "cell_type": "code",
   "execution_count": 2,
   "id": "6c5bd563-e5d6-4523-b7ff-c2e96eb590e3",
   "metadata": {},
   "outputs": [],
   "source": [
    "import sys\n",
    "sys.path.append('../')"
   ]
  },
  {
   "cell_type": "code",
   "execution_count": 3,
   "id": "d618e638-c75c-4ee5-a9a8-2a4eb8b64b9a",
   "metadata": {},
   "outputs": [],
   "source": [
    "import molcraft as mc\n",
    "from molcraft import structure"
   ]
  },
  {
   "cell_type": "code",
   "execution_count": 4,
   "id": "e9e64797-5a9a-416a-a35b-c0b699be8378",
   "metadata": {},
   "outputs": [
    {
     "data": {
      "text/plain": [
       "\u001b[0;31mType:\u001b[0m        module\n",
       "\u001b[0;31mString form:\u001b[0m <module 'molcraft' from '/home/ovillegas/GitProyects/molcraft/examples/../molcraft/__init__.py'>\n",
       "\u001b[0;31mFile:\u001b[0m        ~/GitProyects/molcraft/molcraft/__init__.py\n",
       "\u001b[0;31mDocstring:\u001b[0m  \n",
       "MolCraft - A library for the manipulation and analysis of molecular systems.\n",
       "\n",
       "**MolCraft** is a library that contains different functions and tools to\n",
       "manipulate molecular systems in a simple way.\n"
      ]
     },
     "metadata": {},
     "output_type": "display_data"
    }
   ],
   "source": [
    "mc?"
   ]
  },
  {
   "cell_type": "markdown",
   "id": "1e2dbb3d-d175-4ff4-ae2a-f203b00a70fc",
   "metadata": {},
   "source": [
    "## Reading molecular files"
   ]
  },
  {
   "cell_type": "markdown",
   "id": "a6930279-d953-4978-808f-3271b709385c",
   "metadata": {},
   "source": [
    "The \"structure\" submodule contains functions that load common molecular files, parse them and convert them into dataframes."
   ]
  },
  {
   "cell_type": "code",
   "execution_count": 5,
   "id": "701200ce-33f3-4b87-bd06-ac0d317cbd10",
   "metadata": {},
   "outputs": [
    {
     "data": {
      "text/plain": [
       "['ATOM',\n",
       " 'Elements',\n",
       " 'MOL',\n",
       " 'MoleculeDefintionError',\n",
       " '__builtins__',\n",
       " '__cached__',\n",
       " '__doc__',\n",
       " '__file__',\n",
       " '__loader__',\n",
       " '__name__',\n",
       " '__package__',\n",
       " '__spec__',\n",
       " 'cdist',\n",
       " 'connectivity',\n",
       " 'it',\n",
       " 'load_xyz',\n",
       " 'np',\n",
       " 'nx',\n",
       " 'pd']"
      ]
     },
     "execution_count": 5,
     "metadata": {},
     "output_type": "execute_result"
    }
   ],
   "source": [
    "dir(structure)"
   ]
  },
  {
   "cell_type": "code",
   "execution_count": 6,
   "id": "62d9da73-ef09-47d2-9ac7-65aa07b3dc8e",
   "metadata": {},
   "outputs": [
    {
     "data": {
      "text/html": [
       "<div>\n",
       "<style scoped>\n",
       "    .dataframe tbody tr th:only-of-type {\n",
       "        vertical-align: middle;\n",
       "    }\n",
       "\n",
       "    .dataframe tbody tr th {\n",
       "        vertical-align: top;\n",
       "    }\n",
       "\n",
       "    .dataframe thead th {\n",
       "        text-align: right;\n",
       "    }\n",
       "</style>\n",
       "<table border=\"1\" class=\"dataframe\">\n",
       "  <thead>\n",
       "    <tr style=\"text-align: right;\">\n",
       "      <th></th>\n",
       "      <th>atsb</th>\n",
       "      <th>x</th>\n",
       "      <th>y</th>\n",
       "      <th>z</th>\n",
       "      <th>mass</th>\n",
       "      <th>num</th>\n",
       "      <th>charge</th>\n",
       "    </tr>\n",
       "  </thead>\n",
       "  <tbody>\n",
       "    <tr>\n",
       "      <th>0</th>\n",
       "      <td>C</td>\n",
       "      <td>-2.25274</td>\n",
       "      <td>-0.84017</td>\n",
       "      <td>0.00000</td>\n",
       "      <td>12.011</td>\n",
       "      <td>6</td>\n",
       "      <td>0.0</td>\n",
       "    </tr>\n",
       "    <tr>\n",
       "      <th>1</th>\n",
       "      <td>H</td>\n",
       "      <td>-1.18274</td>\n",
       "      <td>-0.84017</td>\n",
       "      <td>0.00000</td>\n",
       "      <td>1.008</td>\n",
       "      <td>1</td>\n",
       "      <td>0.0</td>\n",
       "    </tr>\n",
       "    <tr>\n",
       "      <th>2</th>\n",
       "      <td>H</td>\n",
       "      <td>-2.60940</td>\n",
       "      <td>-0.53538</td>\n",
       "      <td>-0.96166</td>\n",
       "      <td>1.008</td>\n",
       "      <td>1</td>\n",
       "      <td>0.0</td>\n",
       "    </tr>\n",
       "    <tr>\n",
       "      <th>3</th>\n",
       "      <td>H</td>\n",
       "      <td>-2.60941</td>\n",
       "      <td>-0.15974</td>\n",
       "      <td>0.74479</td>\n",
       "      <td>1.008</td>\n",
       "      <td>1</td>\n",
       "      <td>0.0</td>\n",
       "    </tr>\n",
       "    <tr>\n",
       "      <th>4</th>\n",
       "      <td>H</td>\n",
       "      <td>-2.60941</td>\n",
       "      <td>-1.82539</td>\n",
       "      <td>0.21687</td>\n",
       "      <td>1.008</td>\n",
       "      <td>1</td>\n",
       "      <td>0.0</td>\n",
       "    </tr>\n",
       "  </tbody>\n",
       "</table>\n",
       "</div>"
      ],
      "text/plain": [
       "  atsb        x        y        z    mass  num  charge\n",
       "0    C -2.25274 -0.84017  0.00000  12.011    6     0.0\n",
       "1    H -1.18274 -0.84017  0.00000   1.008    1     0.0\n",
       "2    H -2.60940 -0.53538 -0.96166   1.008    1     0.0\n",
       "3    H -2.60941 -0.15974  0.74479   1.008    1     0.0\n",
       "4    H -2.60941 -1.82539  0.21687   1.008    1     0.0"
      ]
     },
     "execution_count": 6,
     "metadata": {},
     "output_type": "execute_result"
    }
   ],
   "source": [
    "# Export molecular coordinates from xyz files.\n",
    "\n",
    "xyz = structure.load_xyz('../test/xyz/met.xyz')\n",
    "xyz"
   ]
  },
  {
   "cell_type": "code",
   "execution_count": 7,
   "id": "bab7598f-12a7-49a7-a58a-f6104da76876",
   "metadata": {},
   "outputs": [
    {
     "data": {
      "text/plain": [
       "\u001b[0;31mInit signature:\u001b[0m \u001b[0mstructure\u001b[0m\u001b[0;34m.\u001b[0m\u001b[0mMOL\u001b[0m\u001b[0;34m(\u001b[0m\u001b[0mfile\u001b[0m\u001b[0;34m=\u001b[0m\u001b[0;32mNone\u001b[0m\u001b[0;34m,\u001b[0m \u001b[0;34m**\u001b[0m\u001b[0mkwargs\u001b[0m\u001b[0;34m)\u001b[0m\u001b[0;34m\u001b[0m\u001b[0;34m\u001b[0m\u001b[0m\n",
       "\u001b[0;31mDocstring:\u001b[0m     \n",
       "Class used to represent a molecule.\n",
       "\n",
       "Attributes\n",
       "----------\n",
       "dfatoms : DataFrame\n",
       "    Table with all the information of the atoms of the molecule, symbol,\n",
       "    mass and x and z coordinates.\n",
       "\n",
       "Methods\n",
       "-------\n",
       "load_file : str\n",
       "    Reads a molecular file.\n",
       "\u001b[0;31mInit docstring:\u001b[0m\n",
       "Initialize the molecule.\n",
       "\n",
       "Creates a dictionary that indicates that information about the molecule\n",
       "is loaded.\n",
       "\n",
       "If a file is indicated the atomic coordinates will be loaded.\n",
       "\n",
       "Parameters\n",
       "----------\n",
       "file : str\n",
       "    File path.\n",
       "\u001b[0;31mFile:\u001b[0m           ~/GitProyects/molcraft/molcraft/structure.py\n",
       "\u001b[0;31mType:\u001b[0m           type\n",
       "\u001b[0;31mSubclasses:\u001b[0m     ATOM\n"
      ]
     },
     "metadata": {},
     "output_type": "display_data"
    }
   ],
   "source": [
    "structure.MOL?"
   ]
  },
  {
   "cell_type": "code",
   "execution_count": 8,
   "id": "eb4052e3-8579-41da-8bfa-bee7c9726834",
   "metadata": {},
   "outputs": [],
   "source": [
    "# A molecule is created from an xyz file of ethane.\n",
    "\n",
    "mol = structure.MOL(file=\"../test/xyz/eth.xyz\")"
   ]
  },
  {
   "cell_type": "code",
   "execution_count": 9,
   "id": "eb185a7a-a8b7-4dba-930d-962e94df22da",
   "metadata": {},
   "outputs": [
    {
     "data": {
      "text/html": [
       "<div>\n",
       "<style scoped>\n",
       "    .dataframe tbody tr th:only-of-type {\n",
       "        vertical-align: middle;\n",
       "    }\n",
       "\n",
       "    .dataframe tbody tr th {\n",
       "        vertical-align: top;\n",
       "    }\n",
       "\n",
       "    .dataframe thead th {\n",
       "        text-align: right;\n",
       "    }\n",
       "</style>\n",
       "<table border=\"1\" class=\"dataframe\">\n",
       "  <thead>\n",
       "    <tr style=\"text-align: right;\">\n",
       "      <th></th>\n",
       "      <th>atsb</th>\n",
       "      <th>x</th>\n",
       "      <th>y</th>\n",
       "      <th>z</th>\n",
       "      <th>mass</th>\n",
       "      <th>num</th>\n",
       "      <th>charge</th>\n",
       "    </tr>\n",
       "  </thead>\n",
       "  <tbody>\n",
       "    <tr>\n",
       "      <th>0</th>\n",
       "      <td>C</td>\n",
       "      <td>-1.86754</td>\n",
       "      <td>-0.71811</td>\n",
       "      <td>-0.00000</td>\n",
       "      <td>12.011</td>\n",
       "      <td>6</td>\n",
       "      <td>0.0</td>\n",
       "    </tr>\n",
       "    <tr>\n",
       "      <th>1</th>\n",
       "      <td>C</td>\n",
       "      <td>-0.41933</td>\n",
       "      <td>-0.25923</td>\n",
       "      <td>-0.00000</td>\n",
       "      <td>12.011</td>\n",
       "      <td>6</td>\n",
       "      <td>0.0</td>\n",
       "    </tr>\n",
       "    <tr>\n",
       "      <th>2</th>\n",
       "      <td>H</td>\n",
       "      <td>-0.36566</td>\n",
       "      <td>0.81807</td>\n",
       "      <td>-0.26364</td>\n",
       "      <td>1.008</td>\n",
       "      <td>1</td>\n",
       "      <td>0.0</td>\n",
       "    </tr>\n",
       "    <tr>\n",
       "      <th>3</th>\n",
       "      <td>H</td>\n",
       "      <td>0.16128</td>\n",
       "      <td>-0.84490</td>\n",
       "      <td>-0.74352</td>\n",
       "      <td>1.008</td>\n",
       "      <td>1</td>\n",
       "      <td>0.0</td>\n",
       "    </tr>\n",
       "    <tr>\n",
       "      <th>4</th>\n",
       "      <td>H</td>\n",
       "      <td>0.02334</td>\n",
       "      <td>-0.40960</td>\n",
       "      <td>1.00716</td>\n",
       "      <td>1.008</td>\n",
       "      <td>1</td>\n",
       "      <td>0.0</td>\n",
       "    </tr>\n",
       "    <tr>\n",
       "      <th>5</th>\n",
       "      <td>H</td>\n",
       "      <td>-2.31021</td>\n",
       "      <td>-0.56774</td>\n",
       "      <td>-1.00717</td>\n",
       "      <td>1.008</td>\n",
       "      <td>1</td>\n",
       "      <td>0.0</td>\n",
       "    </tr>\n",
       "    <tr>\n",
       "      <th>6</th>\n",
       "      <td>H</td>\n",
       "      <td>-2.44815</td>\n",
       "      <td>-0.13243</td>\n",
       "      <td>0.74352</td>\n",
       "      <td>1.008</td>\n",
       "      <td>1</td>\n",
       "      <td>0.0</td>\n",
       "    </tr>\n",
       "    <tr>\n",
       "      <th>7</th>\n",
       "      <td>H</td>\n",
       "      <td>-1.92121</td>\n",
       "      <td>-1.79541</td>\n",
       "      <td>0.26364</td>\n",
       "      <td>1.008</td>\n",
       "      <td>1</td>\n",
       "      <td>0.0</td>\n",
       "    </tr>\n",
       "  </tbody>\n",
       "</table>\n",
       "</div>"
      ],
      "text/plain": [
       "  atsb        x        y        z    mass  num  charge\n",
       "0    C -1.86754 -0.71811 -0.00000  12.011    6     0.0\n",
       "1    C -0.41933 -0.25923 -0.00000  12.011    6     0.0\n",
       "2    H -0.36566  0.81807 -0.26364   1.008    1     0.0\n",
       "3    H  0.16128 -0.84490 -0.74352   1.008    1     0.0\n",
       "4    H  0.02334 -0.40960  1.00716   1.008    1     0.0\n",
       "5    H -2.31021 -0.56774 -1.00717   1.008    1     0.0\n",
       "6    H -2.44815 -0.13243  0.74352   1.008    1     0.0\n",
       "7    H -1.92121 -1.79541  0.26364   1.008    1     0.0"
      ]
     },
     "execution_count": 9,
     "metadata": {},
     "output_type": "execute_result"
    }
   ],
   "source": [
    "# Atomic coordinates.\n",
    "\n",
    "mol.dfatoms"
   ]
  },
  {
   "cell_type": "code",
   "execution_count": 10,
   "id": "3f6eee43-b6d0-4bce-893f-d10c26fd9e2b",
   "metadata": {},
   "outputs": [
    {
     "name": "stdout",
     "output_type": "stream",
     "text": [
      "connectivity with 8 nodes and 14 edges\n"
     ]
    }
   ],
   "source": [
    "# The connectivity of the molecule is based on a DiGraph object, which uses the\n",
    "# functionalities of graphs to work with connectivity.\n",
    "\n",
    "print(mol.connect)"
   ]
  },
  {
   "cell_type": "code",
   "execution_count": 11,
   "id": "891636b7-4def-4c49-a0ce-22a15d9572d0",
   "metadata": {},
   "outputs": [
    {
     "data": {
      "text/plain": [
       "{0: [1, 5, 6, 7],\n",
       " 1: [0, 2, 3, 4],\n",
       " 2: [1],\n",
       " 3: [1],\n",
       " 4: [1],\n",
       " 5: [0],\n",
       " 6: [0],\n",
       " 7: [0]}"
      ]
     },
     "execution_count": 11,
     "metadata": {},
     "output_type": "execute_result"
    }
   ],
   "source": [
    "# Connectivity\n",
    "\n",
    "mol.connect.atoms_map"
   ]
  },
  {
   "cell_type": "code",
   "execution_count": 12,
   "id": "a7ff8b4a-088f-43fd-b321-c1cd0bdde1eb",
   "metadata": {},
   "outputs": [
    {
     "data": {
      "text/plain": [
       "[(0, 1), (0, 5), (0, 6), (0, 7), (1, 2), (1, 3), (1, 4)]"
      ]
     },
     "execution_count": 12,
     "metadata": {},
     "output_type": "execute_result"
    }
   ],
   "source": [
    "# List of bonds present.\n",
    "\n",
    "mol.bonds_list"
   ]
  },
  {
   "cell_type": "code",
   "execution_count": 13,
   "id": "925b47c1-05dc-4237-91ae-b01a46ff12b3",
   "metadata": {},
   "outputs": [
    {
     "data": {
      "text/plain": [
       "[(0, 1, 2),\n",
       " (0, 1, 3),\n",
       " (0, 1, 4),\n",
       " (1, 0, 5),\n",
       " (1, 0, 6),\n",
       " (1, 0, 7),\n",
       " (2, 1, 3),\n",
       " (2, 1, 4),\n",
       " (3, 1, 4),\n",
       " (5, 0, 6),\n",
       " (5, 0, 7),\n",
       " (6, 0, 7)]"
      ]
     },
     "execution_count": 13,
     "metadata": {},
     "output_type": "execute_result"
    }
   ],
   "source": [
    "# List of angles.\n",
    "\n",
    "mol.angles_list"
   ]
  },
  {
   "cell_type": "code",
   "execution_count": 14,
   "id": "c7d238e7-40e3-4166-958f-879c5285dcea",
   "metadata": {},
   "outputs": [
    {
     "data": {
      "text/plain": [
       "[(2, 1, 0, 5),\n",
       " (2, 1, 0, 6),\n",
       " (2, 1, 0, 7),\n",
       " (3, 1, 0, 5),\n",
       " (3, 1, 0, 6),\n",
       " (3, 1, 0, 7),\n",
       " (4, 1, 0, 5),\n",
       " (4, 1, 0, 6),\n",
       " (4, 1, 0, 7)]"
      ]
     },
     "execution_count": 14,
     "metadata": {},
     "output_type": "execute_result"
    }
   ],
   "source": [
    "# List of dihedrals propers.\n",
    "\n",
    "mol.dihedrals_list"
   ]
  }
 ],
 "metadata": {
  "kernelspec": {
   "display_name": "Python 3 (ipykernel)",
   "language": "python",
   "name": "python3"
  },
  "language_info": {
   "codemirror_mode": {
    "name": "ipython",
    "version": 3
   },
   "file_extension": ".py",
   "mimetype": "text/x-python",
   "name": "python",
   "nbconvert_exporter": "python",
   "pygments_lexer": "ipython3",
   "version": "3.12.2"
  }
 },
 "nbformat": 4,
 "nbformat_minor": 5
}
